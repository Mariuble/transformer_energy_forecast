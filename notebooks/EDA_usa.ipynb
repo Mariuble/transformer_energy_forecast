{
 "cells": [
  {
   "cell_type": "code",
   "execution_count": 1,
   "id": "dd92956f",
   "metadata": {},
   "outputs": [],
   "source": [
    "import pandas as pd\n",
    "import numpy as np\n",
    "import matplotlib.pyplot as plt\n",
    "import random\n",
    "\n",
    "import xgboost as xgb\n",
    "\n",
    "from sklearn.model_selection import train_test_split\n",
    "from sklearn.metrics import mean_squared_error, r2_score\n",
    "\n",
    "seed=99\n",
    "random.seed(seed)\n",
    "np.random.seed(seed)"
   ]
  },
  {
   "cell_type": "code",
   "execution_count": 2,
   "id": "0ee4007b",
   "metadata": {},
   "outputs": [],
   "source": [
    "usa = pd.read_csv(\"../data/usa.csv\")"
   ]
  },
  {
   "cell_type": "code",
   "execution_count": 15,
   "id": "36c66c9c",
   "metadata": {},
   "outputs": [
    {
     "data": {
      "text/html": [
       "<div>\n",
       "<style scoped>\n",
       "    .dataframe tbody tr th:only-of-type {\n",
       "        vertical-align: middle;\n",
       "    }\n",
       "\n",
       "    .dataframe tbody tr th {\n",
       "        vertical-align: top;\n",
       "    }\n",
       "\n",
       "    .dataframe thead th {\n",
       "        text-align: right;\n",
       "    }\n",
       "</style>\n",
       "<table border=\"1\" class=\"dataframe\">\n",
       "  <thead>\n",
       "    <tr style=\"text-align: right;\">\n",
       "      <th></th>\n",
       "      <th>DateTime</th>\n",
       "      <th>Consumption</th>\n",
       "      <th>Temperature</th>\n",
       "    </tr>\n",
       "  </thead>\n",
       "  <tbody>\n",
       "    <tr>\n",
       "      <th>0</th>\n",
       "      <td>2004-01-01 00:00:00</td>\n",
       "      <td>1397668.0</td>\n",
       "      <td>5.757576</td>\n",
       "    </tr>\n",
       "    <tr>\n",
       "      <th>1</th>\n",
       "      <td>2004-01-01 01:00:00</td>\n",
       "      <td>1351507.0</td>\n",
       "      <td>5.151515</td>\n",
       "    </tr>\n",
       "    <tr>\n",
       "      <th>2</th>\n",
       "      <td>2004-01-01 02:00:00</td>\n",
       "      <td>1315742.0</td>\n",
       "      <td>4.242424</td>\n",
       "    </tr>\n",
       "    <tr>\n",
       "      <th>3</th>\n",
       "      <td>2004-01-01 03:00:00</td>\n",
       "      <td>1308023.0</td>\n",
       "      <td>2.373737</td>\n",
       "    </tr>\n",
       "    <tr>\n",
       "      <th>4</th>\n",
       "      <td>2004-01-01 04:00:00</td>\n",
       "      <td>1344117.0</td>\n",
       "      <td>1.464646</td>\n",
       "    </tr>\n",
       "  </tbody>\n",
       "</table>\n",
       "</div>"
      ],
      "text/plain": [
       "              DateTime  Consumption  Temperature\n",
       "0  2004-01-01 00:00:00    1397668.0     5.757576\n",
       "1  2004-01-01 01:00:00    1351507.0     5.151515\n",
       "2  2004-01-01 02:00:00    1315742.0     4.242424\n",
       "3  2004-01-01 03:00:00    1308023.0     2.373737\n",
       "4  2004-01-01 04:00:00    1344117.0     1.464646"
      ]
     },
     "execution_count": 15,
     "metadata": {},
     "output_type": "execute_result"
    }
   ],
   "source": [
    "usa.head() # year, month, day"
   ]
  },
  {
   "cell_type": "code",
   "execution_count": 16,
   "id": "68fd85c9",
   "metadata": {},
   "outputs": [
    {
     "data": {
      "text/html": [
       "<div>\n",
       "<style scoped>\n",
       "    .dataframe tbody tr th:only-of-type {\n",
       "        vertical-align: middle;\n",
       "    }\n",
       "\n",
       "    .dataframe tbody tr th {\n",
       "        vertical-align: top;\n",
       "    }\n",
       "\n",
       "    .dataframe thead th {\n",
       "        text-align: right;\n",
       "    }\n",
       "</style>\n",
       "<table border=\"1\" class=\"dataframe\">\n",
       "  <thead>\n",
       "    <tr style=\"text-align: right;\">\n",
       "      <th></th>\n",
       "      <th>DateTime</th>\n",
       "      <th>Consumption</th>\n",
       "      <th>Temperature</th>\n",
       "    </tr>\n",
       "  </thead>\n",
       "  <tbody>\n",
       "    <tr>\n",
       "      <th>39427</th>\n",
       "      <td>2008-06-30 19:00:00</td>\n",
       "      <td>0.0</td>\n",
       "      <td>NaN</td>\n",
       "    </tr>\n",
       "    <tr>\n",
       "      <th>39428</th>\n",
       "      <td>2008-06-30 20:00:00</td>\n",
       "      <td>0.0</td>\n",
       "      <td>NaN</td>\n",
       "    </tr>\n",
       "    <tr>\n",
       "      <th>39429</th>\n",
       "      <td>2008-06-30 21:00:00</td>\n",
       "      <td>0.0</td>\n",
       "      <td>NaN</td>\n",
       "    </tr>\n",
       "    <tr>\n",
       "      <th>39430</th>\n",
       "      <td>2008-06-30 22:00:00</td>\n",
       "      <td>0.0</td>\n",
       "      <td>NaN</td>\n",
       "    </tr>\n",
       "    <tr>\n",
       "      <th>39431</th>\n",
       "      <td>2008-06-30 23:00:00</td>\n",
       "      <td>0.0</td>\n",
       "      <td>NaN</td>\n",
       "    </tr>\n",
       "  </tbody>\n",
       "</table>\n",
       "</div>"
      ],
      "text/plain": [
       "                  DateTime  Consumption  Temperature\n",
       "39427  2008-06-30 19:00:00          0.0          NaN\n",
       "39428  2008-06-30 20:00:00          0.0          NaN\n",
       "39429  2008-06-30 21:00:00          0.0          NaN\n",
       "39430  2008-06-30 22:00:00          0.0          NaN\n",
       "39431  2008-06-30 23:00:00          0.0          NaN"
      ]
     },
     "execution_count": 16,
     "metadata": {},
     "output_type": "execute_result"
    }
   ],
   "source": [
    "usa.tail()"
   ]
  },
  {
   "cell_type": "code",
   "execution_count": 4,
   "id": "c6d60b92",
   "metadata": {},
   "outputs": [
    {
     "data": {
      "text/plain": [
       "(39432, 3)"
      ]
     },
     "execution_count": 4,
     "metadata": {},
     "output_type": "execute_result"
    }
   ],
   "source": [
    "usa.shape"
   ]
  },
  {
   "cell_type": "code",
   "execution_count": 5,
   "id": "e4fa2d19",
   "metadata": {},
   "outputs": [
    {
     "data": {
      "text/html": [
       "<div>\n",
       "<style scoped>\n",
       "    .dataframe tbody tr th:only-of-type {\n",
       "        vertical-align: middle;\n",
       "    }\n",
       "\n",
       "    .dataframe tbody tr th {\n",
       "        vertical-align: top;\n",
       "    }\n",
       "\n",
       "    .dataframe thead th {\n",
       "        text-align: right;\n",
       "    }\n",
       "</style>\n",
       "<table border=\"1\" class=\"dataframe\">\n",
       "  <thead>\n",
       "    <tr style=\"text-align: right;\">\n",
       "      <th></th>\n",
       "      <th>Consumption</th>\n",
       "      <th>Temperature</th>\n",
       "    </tr>\n",
       "  </thead>\n",
       "  <tbody>\n",
       "    <tr>\n",
       "      <th>count</th>\n",
       "      <td>3.943200e+04</td>\n",
       "      <td>39414.000000</td>\n",
       "    </tr>\n",
       "    <tr>\n",
       "      <th>mean</th>\n",
       "      <td>1.590239e+06</td>\n",
       "      <td>14.129105</td>\n",
       "    </tr>\n",
       "    <tr>\n",
       "      <th>std</th>\n",
       "      <td>4.753389e+05</td>\n",
       "      <td>9.605224</td>\n",
       "    </tr>\n",
       "    <tr>\n",
       "      <th>min</th>\n",
       "      <td>0.000000e+00</td>\n",
       "      <td>-13.585859</td>\n",
       "    </tr>\n",
       "    <tr>\n",
       "      <th>25%</th>\n",
       "      <td>1.359224e+06</td>\n",
       "      <td>6.565657</td>\n",
       "    </tr>\n",
       "    <tr>\n",
       "      <th>50%</th>\n",
       "      <td>1.569116e+06</td>\n",
       "      <td>14.696970</td>\n",
       "    </tr>\n",
       "    <tr>\n",
       "      <th>75%</th>\n",
       "      <td>1.873294e+06</td>\n",
       "      <td>21.868687</td>\n",
       "    </tr>\n",
       "    <tr>\n",
       "      <th>max</th>\n",
       "      <td>3.280423e+06</td>\n",
       "      <td>37.878788</td>\n",
       "    </tr>\n",
       "  </tbody>\n",
       "</table>\n",
       "</div>"
      ],
      "text/plain": [
       "        Consumption   Temperature\n",
       "count  3.943200e+04  39414.000000\n",
       "mean   1.590239e+06     14.129105\n",
       "std    4.753389e+05      9.605224\n",
       "min    0.000000e+00    -13.585859\n",
       "25%    1.359224e+06      6.565657\n",
       "50%    1.569116e+06     14.696970\n",
       "75%    1.873294e+06     21.868687\n",
       "max    3.280423e+06     37.878788"
      ]
     },
     "execution_count": 5,
     "metadata": {},
     "output_type": "execute_result"
    }
   ],
   "source": [
    "usa.describe()"
   ]
  },
  {
   "cell_type": "code",
   "execution_count": 6,
   "id": "a58a67ee",
   "metadata": {},
   "outputs": [
    {
     "data": {
      "text/plain": [
       "DateTime        0\n",
       "Consumption     0\n",
       "Temperature    18\n",
       "dtype: int64"
      ]
     },
     "execution_count": 6,
     "metadata": {},
     "output_type": "execute_result"
    }
   ],
   "source": [
    "usa.isnull().sum()"
   ]
  },
  {
   "cell_type": "code",
   "execution_count": 10,
   "id": "d9d1de30",
   "metadata": {},
   "outputs": [
    {
     "name": "stdout",
     "output_type": "stream",
     "text": [
      "Index([39414, 39415, 39416, 39417, 39418, 39419, 39420, 39421, 39422, 39423,\n",
      "       39424, 39425, 39426, 39427, 39428, 39429, 39430, 39431],\n",
      "      dtype='int64')\n",
      "length = 39432\n"
     ]
    }
   ],
   "source": [
    "missing_temp_indices = usa[usa['Temperature'].isna()].index\n",
    "print(missing_temp_indices)\n",
    "print('length =', usa.shape[0])"
   ]
  },
  {
   "cell_type": "markdown",
   "id": "6fde19d6",
   "metadata": {},
   "source": [
    "Impute missing values:  \n",
    "We can see that we are missing some values in the `Temperature` feature. In order to fill in these values we can impute them by the average of the values before and after to simulate a natural change in temperature. We can implement a custom function that finds the missing values, identifies the nearest non-missing values, calculates their average and fill in the missing value with the result, but there already exists some functionality to do almost the same. \n",
    "\n",
    "After further analysis we can see that the 18 missing values are the last 18 observations in the time series."
   ]
  },
  {
   "cell_type": "code",
   "execution_count": 12,
   "id": "85e2fd6b",
   "metadata": {},
   "outputs": [
    {
     "data": {
      "image/png": "[encoded data removed]",
      "text/plain": [
       "<Figure size 500x300 with 1 Axes>"
      ]
     },
     "metadata": {},
     "output_type": "display_data"
    }
   ],
   "source": [
    "usa['Temperature'][39300:].plot(kind='line', figsize=(5, 3), title='Temperature Over Time')\n",
    "plt.xlabel('Time')  # Assuming the index represents time\n",
    "plt.ylabel('Temperature')\n",
    "plt.axvline(x=39431, color='red')\n",
    "plt.show()"
   ]
  },
  {
   "cell_type": "code",
   "execution_count": null,
   "id": "7dd09707",
   "metadata": {},
   "outputs": [],
   "source": [
    "# Impute missing values by first doing a forward fill, then a backward fill.\n",
    "#usa['Temperature'] = usa['Temperature'].fillna(method='ffill').fillna(method='bfill')\n",
    "\n",
    "# Impute missing values with SimpleImputer\n",
    "#from sklearn.impute import SimpleImputer\n",
    "\n",
    "#imputer = SimpleImputer(strategy='mean')\n",
    "#usa[['Temperature']] = imputer.fit_transform(usa[['Temperature']])"
   ]
  },
  {
   "cell_type": "markdown",
   "id": "34d046c3",
   "metadata": {},
   "source": [
    "## Conclusion\n",
    "The data contains missing values in the `Temperature` feature. These values are the last 18 observations of the time series and we can therefore just remove the last 18 steps from the dataframe before further analysis."
   ]
  }
 ],
 "metadata": {
  "kernelspec": {
   "display_name": "master",
   "language": "python",
   "name": "master"
  },
  "language_info": {
   "codemirror_mode": {
    "name": "ipython",
    "version": 3
   },
   "file_extension": ".py",
   "mimetype": "text/x-python",
   "name": "python",
   "nbconvert_exporter": "python",
   "pygments_lexer": "ipython3",
   "version": "3.12.2"
  }
 },
 "nbformat": 4,
 "nbformat_minor": 5
}
