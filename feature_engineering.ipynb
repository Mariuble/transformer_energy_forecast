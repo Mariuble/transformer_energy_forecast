{
 "cells": [
  {
   "cell_type": "markdown",
   "id": "689d23aa",
   "metadata": {},
   "source": [
    "# Feature Engineering\n",
    "In this notebook"
   ]
  },
  {
   "cell_type": "code",
   "execution_count": 1,
   "id": "5e01299f",
   "metadata": {},
   "outputs": [],
   "source": [
    "import pandas as pd\n",
    "import seaborn as sns\n",
    "import numpy as np"
   ]
  },
  {
   "cell_type": "code",
   "execution_count": null,
   "id": "b75b0086",
   "metadata": {},
   "outputs": [],
   "source": [
    "# load dataset\n",
    "from pycaret.datasets import get_data\n",
    "insurance = get_data('insurance')\n",
    "# setup\n",
    "from pycaret.regression import *\n",
    "reg1 = setup(data = insurance, target = 'charges', feature_interaction = True, feature_ratio = True)"
   ]
  },
  {
   "cell_type": "code",
   "execution_count": null,
   "id": "b13fe83e",
   "metadata": {},
   "outputs": [],
   "source": [
    "data.describe()"
   ]
  },
  {
   "cell_type": "code",
   "execution_count": null,
   "id": "eb4eb3d5",
   "metadata": {},
   "outputs": [],
   "source": [
    "data.isnull().sum()"
   ]
  },
  {
   "cell_type": "code",
   "execution_count": null,
   "id": "2835f8d4",
   "metadata": {},
   "outputs": [],
   "source": [
    "# format date"
   ]
  }
 ],
 "metadata": {
  "kernelspec": {
   "display_name": "Python [conda env:master]",
   "language": "python",
   "name": "conda-env-master-py"
  },
  "language_info": {
   "codemirror_mode": {
    "name": "ipython",
    "version": 3
   },
   "file_extension": ".py",
   "mimetype": "text/x-python",
   "name": "python",
   "nbconvert_exporter": "python",
   "pygments_lexer": "ipython3",
   "version": "3.12.1"
  }
 },
 "nbformat": 4,
 "nbformat_minor": 5
}
